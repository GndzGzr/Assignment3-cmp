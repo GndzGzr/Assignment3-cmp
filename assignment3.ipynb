{
 "cells": [
  {
   "cell_type": "markdown",
   "id": "076fc90f",
   "metadata": {},
   "source": [
    "### IMPORT of Libraries"
   ]
  },
  {
   "cell_type": "code",
   "execution_count": null,
   "id": "4cea4cfc-88c1-4547-b730-7b342c8e1f24",
   "metadata": {},
   "outputs": [],
   "source": [
    "import os\n",
    "import numpy as np\n",
    "import matplotlib.pyplot as plt\n",
    "from skimage import io, color, img_as_float\n",
    "from tqdm import tqdm"
   ]
  },
  {
   "cell_type": "markdown",
   "id": "a2c9c04a",
   "metadata": {},
   "source": [
    "### IMPORT of My Functions Classes\n",
    "\n",
    " 1. **Bilateral Filtering** - Remove noise while preserving edges\n",
    " 2. **Joint/Cross Bilateral Filtering** - Use flash image to guide the filtering of no-flash image\n",
    " 3. **Detail Transfer** - Enhance the no-flash image with details from the flash image\n",
    " 4. **Gradient Domain Processing** - Handle complex shadows and specular highlights\n",
    "#"
   ]
  },
  {
   "cell_type": "markdown",
   "id": "99f39c93",
   "metadata": {},
   "source": [
    "### NOTE: For this assignment\n",
    "\n",
    "Instead of running on a jupyter notebook. I created classes and functions of related parts, and used them in the these main three demo:\n",
    "\n",
    "0. Parameter Exploration\n",
    "1. Demo Bilateral Filter\n",
    "2. Demo Gradient Domain\n",
    "3. Demo part 3\n",
    "\n",
    "Also a README.md file added for explanations of functions, classes and python scripts.\n",
    "\n",
    "For comparing result i have also added a README_Results.md file for comparison. Because using md is much easier than making explanations on jupyter notebook."
   ]
  },
  {
   "cell_type": "code",
   "execution_count": 2,
   "id": "312ababa",
   "metadata": {},
   "outputs": [],
   "source": [
    "import parameter_exploration\n",
    "import demo_bilateral_filter\n",
    "import demo_gradient_domain\n",
    "import demo_part3\n",
    "import part3_analysis\n",
    "from classes_functions import *\n"
   ]
  },
  {
   "cell_type": "markdown",
   "id": "5eb0466e",
   "metadata": {},
   "source": [
    "## PART 1: Bilateral Filtering\n",
    "\n"
   ]
  },
  {
   "cell_type": "markdown",
   "id": "6b3d05e4",
   "metadata": {},
   "source": [
    "#### 1. **Bilateral Filtering** - Remove noise while preserving edges"
   ]
  },
  {
   "cell_type": "markdown",
   "id": "231007ee",
   "metadata": {},
   "source": [
    " Let's explore how different parameter values affect the bilateral filter:\n",
    " - **Spatial Sigma (σs)**: Controls the size of the spatial neighborhood\n",
    " - **Intensity Sigma (σr)**: Controls how much intensity differences are penalized\n",
    "\n",
    "\n",
    " You can find my experimental run outputs in below link for this part:\n",
    "https://drive.google.com/drive/folders/1Te4kRhSijcC5U9jXWdBLK5TGk79SD4Fi?usp=sharing\n"
   ]
  },
  {
   "cell_type": "markdown",
   "id": "d72f6153",
   "metadata": {},
   "source": [
    "#### 2. **Joint/Cross Bilateral Filtering** - Use flash image to guide the filtering of no-flash image\n",
    "\n",
    "\n",
    "Again with Joint bilateral filtering, i've made several experiments you can view below link:\n",
    "https://drive.google.com/drive/folders/1S2avugEYk0ws3WT05Fr7DQOCj5PMyBZN?usp=sharing\n",
    "\n"
   ]
  },
  {
   "cell_type": "markdown",
   "id": "0408db1f",
   "metadata": {},
   "source": [
    "#### 3. **Detail Transfer** - Enhance the no-flash image with details from the flash image\n",
    "\n",
    "\n",
    "For this part you can view above two link for experiments.\n",
    "\n",
    "Each experimant has an image called final comparison. You can view result with other combinations.\n",
    "https://drive.google.com/drive/folders/1tIY3kxFDXfRHSx2yhrWBAJCd64rHp6tD?usp=sharing\n"
   ]
  },
  {
   "cell_type": "markdown",
   "id": "f56b6990",
   "metadata": {},
   "source": [
    "#### 4. **Gradient Domain Processing** - Handle complex shadows and specular highlights\n",
    "\n",
    "For this part again you can use above links for experiments, each experiments includes\n",
    "https://drive.google.com/drive/folders/1tIY3kxFDXfRHSx2yhrWBAJCd64rHp6tD?usp=sharing"
   ]
  },
  {
   "cell_type": "markdown",
   "id": "536a30fa",
   "metadata": {},
   "source": [
    "## PART 2: Gradient Domain Processing\n",
    "\n",
    "\n",
    "\n"
   ]
  },
  {
   "cell_type": "markdown",
   "id": "ab4433ac",
   "metadata": {},
   "source": [
    "### 2.1 Differentiate and then re-integrate an image\n"
   ]
  },
  {
   "cell_type": "markdown",
   "id": "859be048",
   "metadata": {},
   "source": [
    "### 2.2 Create the fused gradient field"
   ]
  },
  {
   "cell_type": "markdown",
   "id": "80705f10",
   "metadata": {},
   "source": [
    "## PART 3: Capture your own flash/no-flash pairs\n",
    "\n",
    "\n",
    "\n"
   ]
  }
 ],
 "metadata": {
  "kernelspec": {
   "display_name": "Python 3 (ipykernel)",
   "language": "python",
   "name": "python3"
  },
  "language_info": {
   "codemirror_mode": {
    "name": "ipython",
    "version": 3
   },
   "file_extension": ".py",
   "mimetype": "text/x-python",
   "name": "python",
   "nbconvert_exporter": "python",
   "pygments_lexer": "ipython3",
   "version": "3.11.7"
  }
 },
 "nbformat": 4,
 "nbformat_minor": 5
}
